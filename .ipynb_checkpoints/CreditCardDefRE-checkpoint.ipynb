{
 "cells": [
  {
   "cell_type": "code",
   "execution_count": 1,
   "metadata": {
    "collapsed": false
   },
   "outputs": [
    {
     "name": "stderr",
     "output_type": "stream",
     "text": [
      "/Users/rebeccahyde/anaconda/lib/python2.7/site-packages/sklearn/cross_validation.py:44: DeprecationWarning: This module was deprecated in version 0.18 in favor of the model_selection module into which all the refactored classes and functions are moved. Also note that the interface of the new CV iterators are different from that of this module. This module will be removed in 0.20.\n",
      "  \"This module will be removed in 0.20.\", DeprecationWarning)\n",
      "/Users/rebeccahyde/anaconda/lib/python2.7/site-packages/sklearn/learning_curve.py:23: DeprecationWarning: This module was deprecated in version 0.18 in favor of the model_selection module into which all the functions are moved. This module will be removed in 0.20\n",
      "  DeprecationWarning)\n"
     ]
    }
   ],
   "source": [
    "import numpy as np\n",
    "import pandas as pd\n",
    "import os\n",
    "from sklearn.model_selection import train_test_split\n",
    "from sklearn.metrics import accuracy_score\n",
    "from sklearn.externals import joblib\n",
    "from sklearn.metrics import recall_score\n",
    "from sklearn.metrics import precision_score\n",
    "from sklearn.metrics import confusion_matrix\n",
    "\n",
    "\n",
    "from sklearn.neighbors import KNeighborsClassifier\n",
    "from sklearn.linear_model import LogisticRegression\n",
    "from sklearn.learning_curve import learning_curve\n",
    "from sklearn.naive_bayes import GaussianNB\n",
    "from sklearn.svm import SVC\n",
    "from sklearn.tree import DecisionTreeClassifier\n",
    "from sklearn.ensemble import RandomForestClassifier\n",
    "from sklearn.metrics import confusion_matrix\n",
    "from sklearn.metrics import precision_recall_curve\n",
    "import matplotlib.pyplot as plt\n",
    "from sklearn.ensemble import GradientBoostingClassifier\n",
    "%matplotlib inline"
   ]
  },
  {
   "cell_type": "code",
   "execution_count": 2,
   "metadata": {
    "collapsed": false
   },
   "outputs": [],
   "source": [
    "df = pd.read_csv('default_of_credit_card_clients.csv')\n",
    "df = df.dropna()"
   ]
  },
  {
   "cell_type": "code",
   "execution_count": 3,
   "metadata": {
    "collapsed": false
   },
   "outputs": [],
   "source": [
    "df = df.drop('ID', axis = 1)"
   ]
  },
  {
   "cell_type": "code",
   "execution_count": 4,
   "metadata": {
    "collapsed": false
   },
   "outputs": [
    {
     "data": {
      "text/html": [
       "<div>\n",
       "<table border=\"1\" class=\"dataframe\">\n",
       "  <thead>\n",
       "    <tr style=\"text-align: right;\">\n",
       "      <th></th>\n",
       "      <th>LIMIT_BAL</th>\n",
       "      <th>SEX</th>\n",
       "      <th>EDUCATION</th>\n",
       "      <th>MARRIAGE</th>\n",
       "      <th>AGE</th>\n",
       "      <th>PAY_0</th>\n",
       "      <th>PAY_2</th>\n",
       "      <th>PAY_3</th>\n",
       "      <th>PAY_4</th>\n",
       "      <th>PAY_5</th>\n",
       "      <th>...</th>\n",
       "      <th>BILL_AMT4</th>\n",
       "      <th>BILL_AMT5</th>\n",
       "      <th>BILL_AMT6</th>\n",
       "      <th>PAY_AMT1</th>\n",
       "      <th>PAY_AMT2</th>\n",
       "      <th>PAY_AMT3</th>\n",
       "      <th>PAY_AMT4</th>\n",
       "      <th>PAY_AMT5</th>\n",
       "      <th>PAY_AMT6</th>\n",
       "      <th>default payment next month</th>\n",
       "    </tr>\n",
       "  </thead>\n",
       "  <tbody>\n",
       "    <tr>\n",
       "      <th>0</th>\n",
       "      <td>20000.0</td>\n",
       "      <td>2.0</td>\n",
       "      <td>2.0</td>\n",
       "      <td>1.0</td>\n",
       "      <td>24.0</td>\n",
       "      <td>2.0</td>\n",
       "      <td>2.0</td>\n",
       "      <td>-1.0</td>\n",
       "      <td>-1.0</td>\n",
       "      <td>-2.0</td>\n",
       "      <td>...</td>\n",
       "      <td>0.0</td>\n",
       "      <td>0.0</td>\n",
       "      <td>0.0</td>\n",
       "      <td>0.0</td>\n",
       "      <td>689.0</td>\n",
       "      <td>0.0</td>\n",
       "      <td>0.0</td>\n",
       "      <td>0.0</td>\n",
       "      <td>0.0</td>\n",
       "      <td>1.0</td>\n",
       "    </tr>\n",
       "    <tr>\n",
       "      <th>1</th>\n",
       "      <td>120000.0</td>\n",
       "      <td>2.0</td>\n",
       "      <td>2.0</td>\n",
       "      <td>2.0</td>\n",
       "      <td>26.0</td>\n",
       "      <td>-1.0</td>\n",
       "      <td>2.0</td>\n",
       "      <td>0.0</td>\n",
       "      <td>0.0</td>\n",
       "      <td>0.0</td>\n",
       "      <td>...</td>\n",
       "      <td>3272.0</td>\n",
       "      <td>3455.0</td>\n",
       "      <td>3261.0</td>\n",
       "      <td>0.0</td>\n",
       "      <td>1000.0</td>\n",
       "      <td>1000.0</td>\n",
       "      <td>1000.0</td>\n",
       "      <td>0.0</td>\n",
       "      <td>2000.0</td>\n",
       "      <td>1.0</td>\n",
       "    </tr>\n",
       "    <tr>\n",
       "      <th>2</th>\n",
       "      <td>90000.0</td>\n",
       "      <td>2.0</td>\n",
       "      <td>2.0</td>\n",
       "      <td>2.0</td>\n",
       "      <td>34.0</td>\n",
       "      <td>0.0</td>\n",
       "      <td>0.0</td>\n",
       "      <td>0.0</td>\n",
       "      <td>0.0</td>\n",
       "      <td>0.0</td>\n",
       "      <td>...</td>\n",
       "      <td>14331.0</td>\n",
       "      <td>14948.0</td>\n",
       "      <td>15549.0</td>\n",
       "      <td>1518.0</td>\n",
       "      <td>1500.0</td>\n",
       "      <td>1000.0</td>\n",
       "      <td>1000.0</td>\n",
       "      <td>1000.0</td>\n",
       "      <td>5000.0</td>\n",
       "      <td>0.0</td>\n",
       "    </tr>\n",
       "    <tr>\n",
       "      <th>3</th>\n",
       "      <td>50000.0</td>\n",
       "      <td>2.0</td>\n",
       "      <td>2.0</td>\n",
       "      <td>1.0</td>\n",
       "      <td>37.0</td>\n",
       "      <td>0.0</td>\n",
       "      <td>0.0</td>\n",
       "      <td>0.0</td>\n",
       "      <td>0.0</td>\n",
       "      <td>0.0</td>\n",
       "      <td>...</td>\n",
       "      <td>28314.0</td>\n",
       "      <td>28959.0</td>\n",
       "      <td>29547.0</td>\n",
       "      <td>2000.0</td>\n",
       "      <td>2019.0</td>\n",
       "      <td>1200.0</td>\n",
       "      <td>1100.0</td>\n",
       "      <td>1069.0</td>\n",
       "      <td>1000.0</td>\n",
       "      <td>0.0</td>\n",
       "    </tr>\n",
       "    <tr>\n",
       "      <th>4</th>\n",
       "      <td>50000.0</td>\n",
       "      <td>1.0</td>\n",
       "      <td>2.0</td>\n",
       "      <td>1.0</td>\n",
       "      <td>57.0</td>\n",
       "      <td>-1.0</td>\n",
       "      <td>0.0</td>\n",
       "      <td>-1.0</td>\n",
       "      <td>0.0</td>\n",
       "      <td>0.0</td>\n",
       "      <td>...</td>\n",
       "      <td>20940.0</td>\n",
       "      <td>19146.0</td>\n",
       "      <td>19131.0</td>\n",
       "      <td>2000.0</td>\n",
       "      <td>36681.0</td>\n",
       "      <td>10000.0</td>\n",
       "      <td>9000.0</td>\n",
       "      <td>689.0</td>\n",
       "      <td>679.0</td>\n",
       "      <td>0.0</td>\n",
       "    </tr>\n",
       "  </tbody>\n",
       "</table>\n",
       "<p>5 rows × 24 columns</p>\n",
       "</div>"
      ],
      "text/plain": [
       "   LIMIT_BAL  SEX  EDUCATION  MARRIAGE   AGE  PAY_0  PAY_2  PAY_3  PAY_4  \\\n",
       "0    20000.0  2.0        2.0       1.0  24.0    2.0    2.0   -1.0   -1.0   \n",
       "1   120000.0  2.0        2.0       2.0  26.0   -1.0    2.0    0.0    0.0   \n",
       "2    90000.0  2.0        2.0       2.0  34.0    0.0    0.0    0.0    0.0   \n",
       "3    50000.0  2.0        2.0       1.0  37.0    0.0    0.0    0.0    0.0   \n",
       "4    50000.0  1.0        2.0       1.0  57.0   -1.0    0.0   -1.0    0.0   \n",
       "\n",
       "   PAY_5             ...              BILL_AMT4  BILL_AMT5  BILL_AMT6  \\\n",
       "0   -2.0             ...                    0.0        0.0        0.0   \n",
       "1    0.0             ...                 3272.0     3455.0     3261.0   \n",
       "2    0.0             ...                14331.0    14948.0    15549.0   \n",
       "3    0.0             ...                28314.0    28959.0    29547.0   \n",
       "4    0.0             ...                20940.0    19146.0    19131.0   \n",
       "\n",
       "   PAY_AMT1  PAY_AMT2  PAY_AMT3  PAY_AMT4  PAY_AMT5  PAY_AMT6  \\\n",
       "0       0.0     689.0       0.0       0.0       0.0       0.0   \n",
       "1       0.0    1000.0    1000.0    1000.0       0.0    2000.0   \n",
       "2    1518.0    1500.0    1000.0    1000.0    1000.0    5000.0   \n",
       "3    2000.0    2019.0    1200.0    1100.0    1069.0    1000.0   \n",
       "4    2000.0   36681.0   10000.0    9000.0     689.0     679.0   \n",
       "\n",
       "   default payment next month  \n",
       "0                         1.0  \n",
       "1                         1.0  \n",
       "2                         0.0  \n",
       "3                         0.0  \n",
       "4                         0.0  \n",
       "\n",
       "[5 rows x 24 columns]"
      ]
     },
     "execution_count": 4,
     "metadata": {},
     "output_type": "execute_result"
    }
   ],
   "source": [
    "df.head()"
   ]
  },
  {
   "cell_type": "code",
   "execution_count": 5,
   "metadata": {
    "collapsed": true
   },
   "outputs": [],
   "source": [
    "df['default payment next month'] = df['default payment next month'].replace(to_replace=0, value=\"Paid\")\n",
    "df['default payment next month'] = df['default payment next month'].replace(to_replace=1, value=\"Default\")\n",
    "target_names = [\"Default\", \"Paid\"]"
   ]
  },
  {
   "cell_type": "markdown",
   "metadata": {
    "collapsed": true
   },
   "source": [
    "# Feature Scaling Limit Balance"
   ]
  },
  {
   "cell_type": "code",
   "execution_count": 6,
   "metadata": {
    "collapsed": false
   },
   "outputs": [],
   "source": [
    "df['LIMIT_BAL'] = df['LIMIT_BAL']/1000"
   ]
  },
  {
   "cell_type": "markdown",
   "metadata": {},
   "source": [
    "# Feature Selection"
   ]
  },
  {
   "cell_type": "code",
   "execution_count": 7,
   "metadata": {
    "collapsed": true
   },
   "outputs": [],
   "source": [
    "def onefeature(model, name):\n",
    "    arr = []\n",
    "    X_feature = df[[name]]\n",
    "    X_train, X_test, y_train, y_test = train_test_split(X_feature, target, test_size = 0.3, random_state = 42)\n",
    "    modelfit = model.fit(X_train, y_train)\n",
    "    modely_pred = modelfit.predict(X_test)\n",
    "    arr.append(round(accuracy_score(y_test, modely_pred),3))\n",
    "    arr.append(round(recall_score(y_test, modely_pred, labels = [\"Paid\", \"Default\"], pos_label= \"Default\"),3))\n",
    "    arr.append(round(precision_score(y_test, modely_pred, labels = [\"Paid\", \"Default\"], pos_label = \"Default\"),3))\n",
    "    return arr"
   ]
  },
  {
   "cell_type": "code",
   "execution_count": 8,
   "metadata": {
    "collapsed": false
   },
   "outputs": [],
   "source": [
    "colnames = df.columns.tolist()\n",
    "colnames.pop()\n",
    "target = df['default payment next month']"
   ]
  },
  {
   "cell_type": "code",
   "execution_count": 9,
   "metadata": {
    "collapsed": false
   },
   "outputs": [],
   "source": [
    "onemodel = KNeighborsClassifier()"
   ]
  },
  {
   "cell_type": "code",
   "execution_count": 10,
   "metadata": {
    "collapsed": false
   },
   "outputs": [
    {
     "name": "stdout",
     "output_type": "stream",
     "text": [
      "LIMIT_BAL\n",
      "[0.759, 0.105, 0.334]\n",
      "SEX\n"
     ]
    },
    {
     "name": "stderr",
     "output_type": "stream",
     "text": [
      "/Users/rebeccahyde/anaconda/lib/python2.7/site-packages/sklearn/metrics/classification.py:1113: UndefinedMetricWarning: Precision is ill-defined and being set to 0.0 due to no predicted samples.\n",
      "  'precision', 'predicted', average, warn_for)\n"
     ]
    },
    {
     "name": "stdout",
     "output_type": "stream",
     "text": [
      "[0.782, 0.0, 0.0]\n",
      "EDUCATION\n",
      "[0.782, 0.0, 0.0]\n",
      "MARRIAGE\n",
      "[0.782, 0.0, 0.0]\n",
      "AGE\n",
      "[0.746, 0.07, 0.228]\n",
      "PAY_0\n",
      "[0.782, 0.009, 0.45]\n",
      "PAY_2\n",
      "[0.79, 0.32, 0.531]\n",
      "PAY_3\n",
      "[0.437, 0.736, 0.241]\n",
      "PAY_4\n",
      "[0.786, 0.265, 0.515]\n",
      "PAY_5\n",
      "[0.792, 0.249, 0.55]\n",
      "PAY_6\n",
      "[0.787, 0.238, 0.522]\n",
      "BILL_AMT1\n",
      "[0.742, 0.097, 0.256]\n",
      "BILL_AMT2\n",
      "[0.745, 0.082, 0.246]\n",
      "BILL_AMT3\n",
      "[0.743, 0.076, 0.227]\n",
      "BILL_AMT4\n",
      "[0.744, 0.073, 0.229]\n",
      "BILL_AMT5\n",
      "[0.748, 0.078, 0.25]\n",
      "BILL_AMT6\n",
      "[0.75, 0.082, 0.264]\n",
      "PAY_AMT1\n",
      "[0.765, 0.036, 0.237]\n",
      "PAY_AMT2\n",
      "[0.744, 0.051, 0.183]\n",
      "PAY_AMT3\n",
      "[0.764, 0.039, 0.242]\n",
      "PAY_AMT4\n",
      "[0.755, 0.044, 0.206]\n",
      "PAY_AMT5\n",
      "[0.763, 0.034, 0.218]\n",
      "PAY_AMT6\n",
      "[0.648, 0.412, 0.286]\n"
     ]
    }
   ],
   "source": [
    "for title in colnames:\n",
    "    print title\n",
    "    print onefeature(onemodel, title)"
   ]
  },
  {
   "cell_type": "markdown",
   "metadata": {},
   "source": [
    "# Model Exploration"
   ]
  },
  {
   "cell_type": "code",
   "execution_count": 11,
   "metadata": {
    "collapsed": false
   },
   "outputs": [],
   "source": [
    "#makes the percentage columns I was talking about\n",
    "def percent_maker(df):\n",
    "    for i in range(1,7):\n",
    "        df[('pct_paid_{}'.format(i))] = df[('PAY_AMT{}'.format(i))] / df[('BILL_AMT{}'.format(i))]\n",
    "\n",
    "percent_maker(df)\n",
    "\n",
    "#replaces null and infinite values\n",
    "df = df.replace({None:0, np.inf:1})\n",
    "\n",
    "#new X features for modeling...\n",
    "X = df[['LIMIT_BAL', 'SEX', 'EDUCATION', 'MARRIAGE', 'AGE','pct_paid_1', 'pct_paid_2', 'pct_paid_3',\n",
    "       'pct_paid_4', 'pct_paid_5', 'pct_paid_6']]\n",
    "\n",
    "target = df['default payment next month']"
   ]
  },
  {
   "cell_type": "code",
   "execution_count": 12,
   "metadata": {
    "collapsed": true
   },
   "outputs": [],
   "source": [
    "X_train, X_test, y_train, y_test = train_test_split(X, target, test_size = 0.3, random_state = 42)"
   ]
  },
  {
   "cell_type": "code",
   "execution_count": 13,
   "metadata": {
    "collapsed": false
   },
   "outputs": [
    {
     "data": {
      "text/html": [
       "<div>\n",
       "<table border=\"1\" class=\"dataframe\">\n",
       "  <thead>\n",
       "    <tr style=\"text-align: right;\">\n",
       "      <th></th>\n",
       "      <th>LIMIT_BAL</th>\n",
       "      <th>SEX</th>\n",
       "      <th>EDUCATION</th>\n",
       "      <th>MARRIAGE</th>\n",
       "      <th>AGE</th>\n",
       "      <th>pct_paid_1</th>\n",
       "      <th>pct_paid_2</th>\n",
       "      <th>pct_paid_3</th>\n",
       "      <th>pct_paid_4</th>\n",
       "      <th>pct_paid_5</th>\n",
       "      <th>pct_paid_6</th>\n",
       "    </tr>\n",
       "  </thead>\n",
       "  <tbody>\n",
       "    <tr>\n",
       "      <th>0</th>\n",
       "      <td>20.0</td>\n",
       "      <td>2.0</td>\n",
       "      <td>2.0</td>\n",
       "      <td>1.0</td>\n",
       "      <td>24.0</td>\n",
       "      <td>0.000000</td>\n",
       "      <td>0.222115</td>\n",
       "      <td>0.000000</td>\n",
       "      <td>0.000000</td>\n",
       "      <td>0.000000</td>\n",
       "      <td>0.000000</td>\n",
       "    </tr>\n",
       "    <tr>\n",
       "      <th>1</th>\n",
       "      <td>120.0</td>\n",
       "      <td>2.0</td>\n",
       "      <td>2.0</td>\n",
       "      <td>2.0</td>\n",
       "      <td>26.0</td>\n",
       "      <td>0.000000</td>\n",
       "      <td>0.579710</td>\n",
       "      <td>0.372856</td>\n",
       "      <td>0.305623</td>\n",
       "      <td>0.000000</td>\n",
       "      <td>0.613309</td>\n",
       "    </tr>\n",
       "    <tr>\n",
       "      <th>2</th>\n",
       "      <td>90.0</td>\n",
       "      <td>2.0</td>\n",
       "      <td>2.0</td>\n",
       "      <td>2.0</td>\n",
       "      <td>34.0</td>\n",
       "      <td>0.051917</td>\n",
       "      <td>0.106937</td>\n",
       "      <td>0.073752</td>\n",
       "      <td>0.069779</td>\n",
       "      <td>0.066899</td>\n",
       "      <td>0.321564</td>\n",
       "    </tr>\n",
       "    <tr>\n",
       "      <th>3</th>\n",
       "      <td>50.0</td>\n",
       "      <td>2.0</td>\n",
       "      <td>2.0</td>\n",
       "      <td>1.0</td>\n",
       "      <td>37.0</td>\n",
       "      <td>0.042562</td>\n",
       "      <td>0.041859</td>\n",
       "      <td>0.024345</td>\n",
       "      <td>0.038850</td>\n",
       "      <td>0.036914</td>\n",
       "      <td>0.033844</td>\n",
       "    </tr>\n",
       "    <tr>\n",
       "      <th>4</th>\n",
       "      <td>50.0</td>\n",
       "      <td>1.0</td>\n",
       "      <td>2.0</td>\n",
       "      <td>1.0</td>\n",
       "      <td>57.0</td>\n",
       "      <td>0.232099</td>\n",
       "      <td>6.469312</td>\n",
       "      <td>0.279057</td>\n",
       "      <td>0.429799</td>\n",
       "      <td>0.035987</td>\n",
       "      <td>0.035492</td>\n",
       "    </tr>\n",
       "  </tbody>\n",
       "</table>\n",
       "</div>"
      ],
      "text/plain": [
       "   LIMIT_BAL  SEX  EDUCATION  MARRIAGE   AGE  pct_paid_1  pct_paid_2  \\\n",
       "0       20.0  2.0        2.0       1.0  24.0    0.000000    0.222115   \n",
       "1      120.0  2.0        2.0       2.0  26.0    0.000000    0.579710   \n",
       "2       90.0  2.0        2.0       2.0  34.0    0.051917    0.106937   \n",
       "3       50.0  2.0        2.0       1.0  37.0    0.042562    0.041859   \n",
       "4       50.0  1.0        2.0       1.0  57.0    0.232099    6.469312   \n",
       "\n",
       "   pct_paid_3  pct_paid_4  pct_paid_5  pct_paid_6  \n",
       "0    0.000000    0.000000    0.000000    0.000000  \n",
       "1    0.372856    0.305623    0.000000    0.613309  \n",
       "2    0.073752    0.069779    0.066899    0.321564  \n",
       "3    0.024345    0.038850    0.036914    0.033844  \n",
       "4    0.279057    0.429799    0.035987    0.035492  "
      ]
     },
     "execution_count": 13,
     "metadata": {},
     "output_type": "execute_result"
    }
   ],
   "source": [
    "X.head()"
   ]
  },
  {
   "cell_type": "code",
   "execution_count": 14,
   "metadata": {
    "collapsed": false
   },
   "outputs": [],
   "source": [
    "modellist = [KNeighborsClassifier(), LogisticRegression(), GaussianNB(), DecisionTreeClassifier(), RandomForestClassifier(), GradientBoostingClassifier()]"
   ]
  },
  {
   "cell_type": "code",
   "execution_count": 15,
   "metadata": {
    "collapsed": false
   },
   "outputs": [
    {
     "name": "stdout",
     "output_type": "stream",
     "text": [
      "KNeighborsClassifier: 0.738\n",
      "[[ 279 1681]\n",
      " [ 674 6366]]\n",
      "LogisticRegression: 0.782\n",
      "[[   0 1960]\n",
      " [   0 7040]]\n",
      "GaussianNB: 0.234\n",
      "[[1931   29]\n",
      " [6865  175]]\n",
      "DecisionTreeClassifier: 0.684\n",
      "[[ 633 1327]\n",
      " [1513 5527]]\n",
      "RandomForestClassifier: 0.755\n",
      "[[ 542 1418]\n",
      " [ 790 6250]]\n",
      "GradientBoostingClassifier: 0.782\n",
      "[[ 177 1783]\n",
      " [ 175 6865]]\n"
     ]
    }
   ],
   "source": [
    "for model in modellist:\n",
    "    modelfit = model.fit(X_train, y_train)\n",
    "    modelypred = modelfit.predict(X_test)\n",
    "    print str(model).split(\"(\")[0] + \": \" + str(round(accuracy_score(y_test, modelypred),3))\n",
    "    print confusion_matrix(y_test, model.predict(X_test))"
   ]
  },
  {
   "cell_type": "markdown",
   "metadata": {},
   "source": [
    "# Model Selection"
   ]
  },
  {
   "cell_type": "code",
   "execution_count": 16,
   "metadata": {
    "collapsed": false
   },
   "outputs": [],
   "source": [
    "y = target.replace(\"Paid\", 0).replace(\"Default\", 1)"
   ]
  },
  {
   "cell_type": "code",
   "execution_count": 17,
   "metadata": {
    "collapsed": true
   },
   "outputs": [],
   "source": [
    "def cost(tp, fp):\n",
    "    letter = 1.5\n",
    "    notdef = 10000\n",
    "    probnotdef = 0.05\n",
    "    lossfalsep = 20000\n",
    "    probleave = 0.01\n",
    "    totcost = letter * (tp + fp) - notdef * probnotdef * tp + lossfalsep * probleave * fp\n",
    "    return totcost"
   ]
  },
  {
   "cell_type": "code",
   "execution_count": 18,
   "metadata": {
    "collapsed": true
   },
   "outputs": [],
   "source": [
    "def allfeaturecost(model, thresh):\n",
    "    \n",
    "    #fit model using different thresholds\n",
    "    X_train, X_test, y_train, y_test = train_test_split(X, y, test_size = 0.3, random_state = 42)\n",
    "    y_test2 = np.array(y_test)\n",
    "    modelfit = model.fit(X_train, y_train)\n",
    "    pred_proba = modelfit.predict_proba(X_test)\n",
    "    fplist = []\n",
    "    tplist = []\n",
    "    costlist = []\n",
    "    \n",
    "    #determine true positives and false positives for cost calculation\n",
    "    for item in range(len(thresh)):\n",
    "        tp = 0\n",
    "        fp = 0\n",
    "        for elem in range(len(pred_proba)):\n",
    "            if pred_proba[elem][1]>=thresh[item] and y_test2[elem] == 1:\n",
    "                tp += 1\n",
    "            elif pred_proba[elem][1] >=thresh[item] and y_test2[elem] == 0:\n",
    "                fp += 1\n",
    "            else:\n",
    "                pass\n",
    "        tplist.append(tp)\n",
    "        fplist.append(fp)\n",
    "        costlist.append(cost(tp,fp))\n",
    "        \n",
    "    #plot the cost against the threshold\n",
    "    \n",
    "    plt.plot(thresh, costlist, label='Model: ' + str(model).split(\"(\")[0])\n",
    "    plt.xlabel('Threshold', fontsize = 20)\n",
    "    plt.ylabel('Cost', fontsize = 20)\n",
    "    plt.title('Cost-Threshold Curve', fontsize = 30)\n",
    "    plt.legend(loc=\"upper right\")\n",
    "        \n",
    "    return tplist, fplist, costlist, thresh"
   ]
  },
  {
   "cell_type": "code",
   "execution_count": 19,
   "metadata": {
    "collapsed": false
   },
   "outputs": [],
   "source": [
    "def plotfunction(models, thresh):\n",
    "    plt.figure(figsize = (20, 10))\n",
    "    for model in models:\n",
    "        tplist, fplist, costlist, thresh = allfeaturecost(model, thresh)\n",
    "    plt.plot(thresh, costlist)"
   ]
  },
  {
   "cell_type": "code",
   "execution_count": 20,
   "metadata": {
    "collapsed": false
   },
   "outputs": [
    {
     "data": {
      "image/png": "[encoded data removed]",
      "text/plain": [
       "<matplotlib.figure.Figure at 0x103e7dfd0>"
      ]
     },
     "metadata": {},
     "output_type": "display_data"
    }
   ],
   "source": [
    "thresh = [0.2, 0.4, 0.5, 0.6, 0.8]\n",
    "plotfunction(modellist, thresh)"
   ]
  },
  {
   "cell_type": "markdown",
   "metadata": {},
   "source": [
    "# Precision/Accuracy Testing"
   ]
  },
  {
   "cell_type": "code",
   "execution_count": 21,
   "metadata": {
    "collapsed": true
   },
   "outputs": [],
   "source": [
    "def allfeature(model):\n",
    "    arr = []\n",
    "    X_train, X_test, y_train, y_test = train_test_split(X, target, test_size = 0.3, random_state = 42)\n",
    "    modelfit = model.fit(X_train, y_train)\n",
    "    modely_pred = modelfit.predict(X_test)\n",
    "    pred_proba = modelfit.predict_proba(X_test)\n",
    "    arr.append(round(accuracy_score(y_test, modely_pred),3))\n",
    "    arr.append(round(recall_score(y_test, modely_pred, labels = [\"Paid\", \"Default\"], pos_label= \"Default\"),3))\n",
    "    arr.append(round(precision_score(y_test, modely_pred, labels = [\"Paid\", \"Default\"], pos_label = \"Default\"),3))\n",
    "    precision, recall, thresholds = precision_recall_curve(y_test, pred_proba[:,1], pos_label = \"Default\")\n",
    "\n",
    "    print precision, recall, thresholds"
   ]
  },
  {
   "cell_type": "code",
   "execution_count": 22,
   "metadata": {
    "collapsed": false,
    "scrolled": false
   },
   "outputs": [
    {
     "name": "stdout",
     "output_type": "stream",
     "text": [
      "KNeighborsClassifier(algorithm='auto', leaf_size=30, metric='minkowski',\n",
      "           metric_params=None, n_jobs=1, n_neighbors=5, p=2,\n",
      "           weights='uniform')\n",
      "[ 0.21777778  0.21729934  0.21489939  0.20889773  0.19490838  0.16755853\n",
      "  1.        ] [ 1.          0.99591837  0.96989796  0.85765306  0.61326531  0.25561224\n",
      "  0.        ] [ 0.   0.2  0.4  0.6  0.8  1. ]\n",
      "None\n",
      "LogisticRegression(C=1.0, class_weight=None, dual=False, fit_intercept=True,\n",
      "          intercept_scaling=1, max_iter=100, multi_class='ovr', n_jobs=1,\n",
      "          penalty='l2', random_state=None, solver='liblinear', tol=0.0001,\n",
      "          verbose=0, warm_start=False)\n",
      "[ 0.21789883  0.21781187  0.2177249  ...,  0.5         0.          1.        ] [  1.00000000e+00   9.99489796e-01   9.98979592e-01 ...,   5.10204082e-04\n",
      "   0.00000000e+00   0.00000000e+00] [ 0.59954895  0.60001971  0.60071793 ...,  0.96634049  0.96647397\n",
      "  0.96967935]\n",
      "None\n",
      "GaussianNB(priors=None)\n",
      "[ 0.21780198  0.21771505  0.21773925 ...,  0.09375     0.09473684  1.        ] [ 1.          0.9994898   0.9994898  ...,  0.00459184  0.00459184  0.        ] [  9.73113459e-61   1.10154363e-49   5.93590794e-34 ...,   1.00000000e+00\n",
      "   1.00000000e+00   1.00000000e+00]\n",
      "None\n",
      "DecisionTreeClassifier(class_weight=None, criterion='gini', max_depth=None,\n",
      "            max_features=None, max_leaf_nodes=None,\n",
      "            min_impurity_split=1e-07, min_samples_leaf=1,\n",
      "            min_samples_split=2, min_weight_fraction_leaf=0.0,\n",
      "            presort=False, random_state=None, splitter='best')\n",
      "[ 0.21777778  0.19566797  0.19555103  0.19498323  0.19471224  1.        ] [ 1.          0.68673469  0.68622449  0.68214286  0.68010204  0.        ] [ 0.          0.33333333  0.5         0.66666667  1.        ]\n",
      "None\n",
      "RandomForestClassifier(bootstrap=True, class_weight=None, criterion='gini',\n",
      "            max_depth=None, max_features='auto', max_leaf_nodes=None,\n",
      "            min_impurity_split=1e-07, min_samples_leaf=1,\n",
      "            min_samples_split=2, min_weight_fraction_leaf=0.0,\n",
      "            n_estimators=10, n_jobs=1, oob_score=False, random_state=None,\n",
      "            verbose=0, warm_start=False)\n",
      "[ 0.21777778  0.21747357  0.21738646  0.21729934  0.21463797  0.21454994\n",
      "  0.21459805  0.2115603   0.21149478  0.21154283  0.21145324  0.21136364\n",
      "  0.2043387   0.20424589  0.20426972  0.20385289  0.20387669  0.2039005\n",
      "  0.20380752  0.19734761  0.19724994  0.19715225  0.19705453  0.19695679\n",
      "  0.19676123  0.19666342  0.19656558  0.18676184  0.18668051  0.18657492\n",
      "  0.18659914  0.18662338  0.18651773  0.18643627  0.1864605   0.18624903\n",
      "  0.18627324  0.18629745  0.18632167  0.1863459   0.18637014  0.18626431\n",
      "  0.17009782  0.17012266  0.17000146  0.17002629  0.17005113  0.17000439\n",
      "  0.17002924  0.1700541   0.17007897  0.17010385  0.15578872  0.15581644\n",
      "  0.15584416  0.15580484  0.15583259  0.15570996  0.1557377   0.15576546\n",
      "  0.14475432  0.14479277  0.14456551  0.12733856  0.12741546  0.12688822\n",
      "  0.12696493  0.12643678  1.        ] [ 1.          0.99693878  0.99642857  0.99591837  0.97704082  0.97653061\n",
      "  0.97653061  0.9505102   0.95        0.95        0.9494898   0.94897959\n",
      "  0.89387755  0.89336735  0.89336735  0.89081633  0.89081633  0.89081633\n",
      "  0.89030612  0.82755102  0.82704082  0.82653061  0.82602041  0.8255102\n",
      "  0.8244898   0.82397959  0.82346939  0.73418367  0.73367347  0.73316327\n",
      "  0.73316327  0.73316327  0.73265306  0.73214286  0.73214286  0.73112245\n",
      "  0.73112245  0.73112245  0.73112245  0.73112245  0.73112245  0.73061224\n",
      "  0.59438776  0.59438776  0.59387755  0.59387755  0.59387755  0.59336735\n",
      "  0.59336735  0.59336735  0.59336735  0.59336735  0.44693878  0.44693878\n",
      "  0.44693878  0.44642857  0.44642857  0.44591837  0.44591837  0.44591837\n",
      "  0.27806122  0.27806122  0.27755102  0.10765306  0.10765306  0.10714286\n",
      "  0.10714286  0.10663265  0.        ] [ 0.          0.06        0.08        0.1         0.125       0.18333333\n",
      "  0.2         0.23333333  0.24        0.24666667  0.25        0.3         0.31\n",
      "  0.33333333  0.35        0.36666667  0.375       0.39166667  0.4         0.415\n",
      "  0.43333333  0.44333333  0.44666667  0.45        0.48333333  0.49642857\n",
      "  0.5         0.50833333  0.525       0.53333333  0.53333333  0.54        0.55\n",
      "  0.55166667  0.55833333  0.56        0.565       0.575       0.58333333\n",
      "  0.58809524  0.59333333  0.6         0.6         0.60833333  0.62\n",
      "  0.63333333  0.65        0.65416667  0.66666667  0.675       0.68333333\n",
      "  0.7         0.70166667  0.73333333  0.75        0.75166667  0.76        0.775\n",
      "  0.78        0.8         0.85        0.86666667  0.9         0.925       0.96\n",
      "  0.975       0.98333333  1.        ]\n",
      "None\n",
      "GradientBoostingClassifier(criterion='friedman_mse', init=None,\n",
      "              learning_rate=0.1, loss='deviance', max_depth=3,\n",
      "              max_features=None, max_leaf_nodes=None,\n",
      "              min_impurity_split=1e-07, min_samples_leaf=1,\n",
      "              min_samples_split=2, min_weight_fraction_leaf=0.0,\n",
      "              n_estimators=100, presort='auto', random_state=None,\n",
      "              subsample=1.0, verbose=0, warm_start=False)\n",
      "[ 0.21782618  0.21773925  0.21765229 ...,  0.          0.          1.        ] [ 1.          0.9994898   0.99897959 ...,  0.          0.          0.        ] [ 0.28245336  0.28657836  0.30953054 ...,  0.95827758  0.95883932\n",
      "  0.96337499]\n",
      "None\n"
     ]
    }
   ],
   "source": [
    "for model in modellist:\n",
    "    print model\n",
    "    print allfeature(model)"
   ]
  }
 ],
 "metadata": {
  "anaconda-cloud": {},
  "kernelspec": {
   "display_name": "Python [Root]",
   "language": "python",
   "name": "Python [Root]"
  },
  "language_info": {
   "codemirror_mode": {
    "name": "ipython",
    "version": 2
   },
   "file_extension": ".py",
   "mimetype": "text/x-python",
   "name": "python",
   "nbconvert_exporter": "python",
   "pygments_lexer": "ipython2",
   "version": "2.7.12"
  }
 },
 "nbformat": 4,
 "nbformat_minor": 0
}
