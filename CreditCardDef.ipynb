{
 "cells": [
  {
   "cell_type": "code",
   "execution_count": 3,
   "metadata": {
    "collapsed": false
   },
   "outputs": [],
   "source": [
    "import numpy as np\n",
    "import pandas as pd\n",
    "import os\n",
    "from sklearn.cross_validation import train_test_split\n",
    "from sklearn.metrics import accuracy_score\n",
    "from sklearn.externals import joblib\n",
    "from sklearn.metrics import recall_score\n",
    "from sklearn.metrics import precision_score\n",
    "from sklearn.metrics import confusion_matrix\n",
    "\n",
    "from sklearn.neighbors import KNeighborsClassifier\n",
    "from sklearn.linear_model import LogisticRegression\n",
    "from sklearn.learning_curve import learning_curve\n",
    "from sklearn.naive_bayes import GaussianNB\n",
    "from sklearn.svm import SVC\n",
    "from sklearn.tree import DecisionTreeClassifier\n",
    "from sklearn.ensemble import RandomForestClassifier\n",
    "from sklearn.metrics import confusion_matrix"
   ]
  },
  {
   "cell_type": "code",
   "execution_count": 4,
   "metadata": {
    "collapsed": true
   },
   "outputs": [],
   "source": [
    "os.chdir('/Users/Sam/ds/metis/metisgh/sf16_ds4/local/Project3')"
   ]
  },
  {
   "cell_type": "code",
   "execution_count": 5,
   "metadata": {
    "collapsed": false
   },
   "outputs": [],
   "source": [
    "df = pd.read_csv('default_of_credit_card_clients.csv')\n",
    "df = df.dropna()"
   ]
  },
  {
   "cell_type": "code",
   "execution_count": 6,
   "metadata": {
    "collapsed": false
   },
   "outputs": [],
   "source": [
    "df = df.drop('ID', axis = 1)"
   ]
  },
  {
   "cell_type": "code",
   "execution_count": 7,
   "metadata": {
    "collapsed": false
   },
   "outputs": [
    {
     "data": {
      "text/html": [
       "<div>\n",
       "<table border=\"1\" class=\"dataframe\">\n",
       "  <thead>\n",
       "    <tr style=\"text-align: right;\">\n",
       "      <th></th>\n",
       "      <th>LIMIT_BAL</th>\n",
       "      <th>SEX</th>\n",
       "      <th>EDUCATION</th>\n",
       "      <th>MARRIAGE</th>\n",
       "      <th>AGE</th>\n",
       "      <th>PAY_0</th>\n",
       "      <th>PAY_2</th>\n",
       "      <th>PAY_3</th>\n",
       "      <th>PAY_4</th>\n",
       "      <th>PAY_5</th>\n",
       "      <th>...</th>\n",
       "      <th>BILL_AMT4</th>\n",
       "      <th>BILL_AMT5</th>\n",
       "      <th>BILL_AMT6</th>\n",
       "      <th>PAY_AMT1</th>\n",
       "      <th>PAY_AMT2</th>\n",
       "      <th>PAY_AMT3</th>\n",
       "      <th>PAY_AMT4</th>\n",
       "      <th>PAY_AMT5</th>\n",
       "      <th>PAY_AMT6</th>\n",
       "      <th>default payment next month</th>\n",
       "    </tr>\n",
       "  </thead>\n",
       "  <tbody>\n",
       "    <tr>\n",
       "      <th>0</th>\n",
       "      <td>20000.0</td>\n",
       "      <td>2.0</td>\n",
       "      <td>2.0</td>\n",
       "      <td>1.0</td>\n",
       "      <td>24.0</td>\n",
       "      <td>2.0</td>\n",
       "      <td>2.0</td>\n",
       "      <td>-1.0</td>\n",
       "      <td>-1.0</td>\n",
       "      <td>-2.0</td>\n",
       "      <td>...</td>\n",
       "      <td>0.0</td>\n",
       "      <td>0.0</td>\n",
       "      <td>0.0</td>\n",
       "      <td>0.0</td>\n",
       "      <td>689.0</td>\n",
       "      <td>0.0</td>\n",
       "      <td>0.0</td>\n",
       "      <td>0.0</td>\n",
       "      <td>0.0</td>\n",
       "      <td>1.0</td>\n",
       "    </tr>\n",
       "    <tr>\n",
       "      <th>1</th>\n",
       "      <td>120000.0</td>\n",
       "      <td>2.0</td>\n",
       "      <td>2.0</td>\n",
       "      <td>2.0</td>\n",
       "      <td>26.0</td>\n",
       "      <td>-1.0</td>\n",
       "      <td>2.0</td>\n",
       "      <td>0.0</td>\n",
       "      <td>0.0</td>\n",
       "      <td>0.0</td>\n",
       "      <td>...</td>\n",
       "      <td>3272.0</td>\n",
       "      <td>3455.0</td>\n",
       "      <td>3261.0</td>\n",
       "      <td>0.0</td>\n",
       "      <td>1000.0</td>\n",
       "      <td>1000.0</td>\n",
       "      <td>1000.0</td>\n",
       "      <td>0.0</td>\n",
       "      <td>2000.0</td>\n",
       "      <td>1.0</td>\n",
       "    </tr>\n",
       "    <tr>\n",
       "      <th>2</th>\n",
       "      <td>90000.0</td>\n",
       "      <td>2.0</td>\n",
       "      <td>2.0</td>\n",
       "      <td>2.0</td>\n",
       "      <td>34.0</td>\n",
       "      <td>0.0</td>\n",
       "      <td>0.0</td>\n",
       "      <td>0.0</td>\n",
       "      <td>0.0</td>\n",
       "      <td>0.0</td>\n",
       "      <td>...</td>\n",
       "      <td>14331.0</td>\n",
       "      <td>14948.0</td>\n",
       "      <td>15549.0</td>\n",
       "      <td>1518.0</td>\n",
       "      <td>1500.0</td>\n",
       "      <td>1000.0</td>\n",
       "      <td>1000.0</td>\n",
       "      <td>1000.0</td>\n",
       "      <td>5000.0</td>\n",
       "      <td>0.0</td>\n",
       "    </tr>\n",
       "    <tr>\n",
       "      <th>3</th>\n",
       "      <td>50000.0</td>\n",
       "      <td>2.0</td>\n",
       "      <td>2.0</td>\n",
       "      <td>1.0</td>\n",
       "      <td>37.0</td>\n",
       "      <td>0.0</td>\n",
       "      <td>0.0</td>\n",
       "      <td>0.0</td>\n",
       "      <td>0.0</td>\n",
       "      <td>0.0</td>\n",
       "      <td>...</td>\n",
       "      <td>28314.0</td>\n",
       "      <td>28959.0</td>\n",
       "      <td>29547.0</td>\n",
       "      <td>2000.0</td>\n",
       "      <td>2019.0</td>\n",
       "      <td>1200.0</td>\n",
       "      <td>1100.0</td>\n",
       "      <td>1069.0</td>\n",
       "      <td>1000.0</td>\n",
       "      <td>0.0</td>\n",
       "    </tr>\n",
       "    <tr>\n",
       "      <th>4</th>\n",
       "      <td>50000.0</td>\n",
       "      <td>1.0</td>\n",
       "      <td>2.0</td>\n",
       "      <td>1.0</td>\n",
       "      <td>57.0</td>\n",
       "      <td>-1.0</td>\n",
       "      <td>0.0</td>\n",
       "      <td>-1.0</td>\n",
       "      <td>0.0</td>\n",
       "      <td>0.0</td>\n",
       "      <td>...</td>\n",
       "      <td>20940.0</td>\n",
       "      <td>19146.0</td>\n",
       "      <td>19131.0</td>\n",
       "      <td>2000.0</td>\n",
       "      <td>36681.0</td>\n",
       "      <td>10000.0</td>\n",
       "      <td>9000.0</td>\n",
       "      <td>689.0</td>\n",
       "      <td>679.0</td>\n",
       "      <td>0.0</td>\n",
       "    </tr>\n",
       "  </tbody>\n",
       "</table>\n",
       "<p>5 rows × 24 columns</p>\n",
       "</div>"
      ],
      "text/plain": [
       "   LIMIT_BAL  SEX  EDUCATION  MARRIAGE   AGE  PAY_0  PAY_2  PAY_3  PAY_4  \\\n",
       "0    20000.0  2.0        2.0       1.0  24.0    2.0    2.0   -1.0   -1.0   \n",
       "1   120000.0  2.0        2.0       2.0  26.0   -1.0    2.0    0.0    0.0   \n",
       "2    90000.0  2.0        2.0       2.0  34.0    0.0    0.0    0.0    0.0   \n",
       "3    50000.0  2.0        2.0       1.0  37.0    0.0    0.0    0.0    0.0   \n",
       "4    50000.0  1.0        2.0       1.0  57.0   -1.0    0.0   -1.0    0.0   \n",
       "\n",
       "   PAY_5             ...              BILL_AMT4  BILL_AMT5  BILL_AMT6  \\\n",
       "0   -2.0             ...                    0.0        0.0        0.0   \n",
       "1    0.0             ...                 3272.0     3455.0     3261.0   \n",
       "2    0.0             ...                14331.0    14948.0    15549.0   \n",
       "3    0.0             ...                28314.0    28959.0    29547.0   \n",
       "4    0.0             ...                20940.0    19146.0    19131.0   \n",
       "\n",
       "   PAY_AMT1  PAY_AMT2  PAY_AMT3  PAY_AMT4  PAY_AMT5  PAY_AMT6  \\\n",
       "0       0.0     689.0       0.0       0.0       0.0       0.0   \n",
       "1       0.0    1000.0    1000.0    1000.0       0.0    2000.0   \n",
       "2    1518.0    1500.0    1000.0    1000.0    1000.0    5000.0   \n",
       "3    2000.0    2019.0    1200.0    1100.0    1069.0    1000.0   \n",
       "4    2000.0   36681.0   10000.0    9000.0     689.0     679.0   \n",
       "\n",
       "   default payment next month  \n",
       "0                         1.0  \n",
       "1                         1.0  \n",
       "2                         0.0  \n",
       "3                         0.0  \n",
       "4                         0.0  \n",
       "\n",
       "[5 rows x 24 columns]"
      ]
     },
     "execution_count": 7,
     "metadata": {},
     "output_type": "execute_result"
    }
   ],
   "source": [
    "df.head()"
   ]
  },
  {
   "cell_type": "code",
   "execution_count": 8,
   "metadata": {
    "collapsed": true
   },
   "outputs": [],
   "source": [
    "df['default payment next month'] = df['default payment next month'].replace(to_replace=0, value=\"Paid\")\n",
    "df['default payment next month'] = df['default payment next month'].replace(to_replace=1, value=\"Default\")\n",
    "target_names = [\"Default\", \"Paid\"]"
   ]
  },
  {
   "cell_type": "markdown",
   "metadata": {
    "collapsed": true
   },
   "source": [
    "# Feature Scaling Limit Balance"
   ]
  },
  {
   "cell_type": "code",
   "execution_count": 9,
   "metadata": {
    "collapsed": true
   },
   "outputs": [],
   "source": [
    "df['LIMIT_BAL'] = df['LIMIT_BAL']/1000"
   ]
  },
  {
   "cell_type": "code",
   "execution_count": 10,
   "metadata": {
    "collapsed": false
   },
   "outputs": [],
   "source": [
    "#makes the percentage columns I was talking about\n",
    "def percent_maker(df):\n",
    "    reverse_dict = {6:1,5:2,4:3,3:4,2:5,1:6}\n",
    "    for i in range(1,7):\n",
    "        df[('pct_paid_{}'.format(i))] = df[('PAY_AMT{}'.format(i))] / df[('BILL_AMT{}'.format(reverse_dict[i]))]\n",
    "\n",
    "percent_maker(df)\n",
    "\n",
    "#replaces null and infinite values\n",
    "df = df.replace({None:0, np.inf:1})\n",
    "\n",
    "#new X features for modeling...\n",
    "X = df[['LIMIT_BAL', 'SEX', 'EDUCATION', 'MARRIAGE', 'AGE','pct_paid_1', 'pct_paid_2', 'pct_paid_3',\n",
    "       'pct_paid_4', 'pct_paid_5', 'pct_paid_6']]\n",
    "\n",
    "target = df['default payment next month']"
   ]
  },
  {
   "cell_type": "code",
   "execution_count": 11,
   "metadata": {
    "collapsed": true
   },
   "outputs": [],
   "source": [
    "X_train, X_test, y_train, y_test = train_test_split(X, target, test_size = 0.3, random_state = 42)"
   ]
  },
  {
   "cell_type": "code",
   "execution_count": 12,
   "metadata": {
    "collapsed": false
   },
   "outputs": [
    {
     "data": {
      "text/html": [
       "<div>\n",
       "<table border=\"1\" class=\"dataframe\">\n",
       "  <thead>\n",
       "    <tr style=\"text-align: right;\">\n",
       "      <th></th>\n",
       "      <th>LIMIT_BAL</th>\n",
       "      <th>SEX</th>\n",
       "      <th>EDUCATION</th>\n",
       "      <th>MARRIAGE</th>\n",
       "      <th>AGE</th>\n",
       "      <th>pct_paid_1</th>\n",
       "      <th>pct_paid_2</th>\n",
       "      <th>pct_paid_3</th>\n",
       "      <th>pct_paid_4</th>\n",
       "      <th>pct_paid_5</th>\n",
       "      <th>pct_paid_6</th>\n",
       "    </tr>\n",
       "  </thead>\n",
       "  <tbody>\n",
       "    <tr>\n",
       "      <th>0</th>\n",
       "      <td>20.0</td>\n",
       "      <td>2.0</td>\n",
       "      <td>2.0</td>\n",
       "      <td>1.0</td>\n",
       "      <td>24.0</td>\n",
       "      <td>0.000000</td>\n",
       "      <td>1.000000</td>\n",
       "      <td>0.000000</td>\n",
       "      <td>0.000000</td>\n",
       "      <td>0.000000</td>\n",
       "      <td>0.000000</td>\n",
       "    </tr>\n",
       "    <tr>\n",
       "      <th>1</th>\n",
       "      <td>120.0</td>\n",
       "      <td>2.0</td>\n",
       "      <td>2.0</td>\n",
       "      <td>2.0</td>\n",
       "      <td>26.0</td>\n",
       "      <td>0.000000</td>\n",
       "      <td>0.289436</td>\n",
       "      <td>0.305623</td>\n",
       "      <td>0.372856</td>\n",
       "      <td>0.000000</td>\n",
       "      <td>0.745712</td>\n",
       "    </tr>\n",
       "    <tr>\n",
       "      <th>2</th>\n",
       "      <td>90.0</td>\n",
       "      <td>2.0</td>\n",
       "      <td>2.0</td>\n",
       "      <td>2.0</td>\n",
       "      <td>34.0</td>\n",
       "      <td>0.097627</td>\n",
       "      <td>0.100348</td>\n",
       "      <td>0.069779</td>\n",
       "      <td>0.073752</td>\n",
       "      <td>0.071291</td>\n",
       "      <td>0.171004</td>\n",
       "    </tr>\n",
       "    <tr>\n",
       "      <th>3</th>\n",
       "      <td>50.0</td>\n",
       "      <td>2.0</td>\n",
       "      <td>2.0</td>\n",
       "      <td>1.0</td>\n",
       "      <td>37.0</td>\n",
       "      <td>0.067689</td>\n",
       "      <td>0.069719</td>\n",
       "      <td>0.042382</td>\n",
       "      <td>0.022316</td>\n",
       "      <td>0.022163</td>\n",
       "      <td>0.021281</td>\n",
       "    </tr>\n",
       "    <tr>\n",
       "      <th>4</th>\n",
       "      <td>50.0</td>\n",
       "      <td>1.0</td>\n",
       "      <td>2.0</td>\n",
       "      <td>1.0</td>\n",
       "      <td>57.0</td>\n",
       "      <td>0.104542</td>\n",
       "      <td>1.915857</td>\n",
       "      <td>0.477555</td>\n",
       "      <td>0.251151</td>\n",
       "      <td>0.121517</td>\n",
       "      <td>0.078798</td>\n",
       "    </tr>\n",
       "  </tbody>\n",
       "</table>\n",
       "</div>"
      ],
      "text/plain": [
       "   LIMIT_BAL  SEX  EDUCATION  MARRIAGE   AGE  pct_paid_1  pct_paid_2  \\\n",
       "0       20.0  2.0        2.0       1.0  24.0    0.000000    1.000000   \n",
       "1      120.0  2.0        2.0       2.0  26.0    0.000000    0.289436   \n",
       "2       90.0  2.0        2.0       2.0  34.0    0.097627    0.100348   \n",
       "3       50.0  2.0        2.0       1.0  37.0    0.067689    0.069719   \n",
       "4       50.0  1.0        2.0       1.0  57.0    0.104542    1.915857   \n",
       "\n",
       "   pct_paid_3  pct_paid_4  pct_paid_5  pct_paid_6  \n",
       "0    0.000000    0.000000    0.000000    0.000000  \n",
       "1    0.305623    0.372856    0.000000    0.745712  \n",
       "2    0.069779    0.073752    0.071291    0.171004  \n",
       "3    0.042382    0.022316    0.022163    0.021281  \n",
       "4    0.477555    0.251151    0.121517    0.078798  "
      ]
     },
     "execution_count": 12,
     "metadata": {},
     "output_type": "execute_result"
    }
   ],
   "source": [
    "X.head()"
   ]
  },
  {
   "cell_type": "code",
   "execution_count": 13,
   "metadata": {
    "collapsed": false
   },
   "outputs": [],
   "source": [
    "modellist = [KNeighborsClassifier(), LogisticRegression(), GaussianNB(), DecisionTreeClassifier(), RandomForestClassifier()]"
   ]
  },
  {
   "cell_type": "code",
   "execution_count": 14,
   "metadata": {
    "collapsed": false
   },
   "outputs": [
    {
     "name": "stdout",
     "output_type": "stream",
     "text": [
      "KNeighborsClassifier: 0.743\n",
      "[[ 301 1659]\n",
      " [ 651 6389]]\n",
      "LogisticRegression: 0.782\n",
      "[[   0 1960]\n",
      " [   0 7040]]\n",
      "GaussianNB: 0.226\n",
      "[[1955    5]\n",
      " [6960   80]]\n",
      "DecisionTreeClassifier: 0.686\n",
      "[[ 642 1318]\n",
      " [1510 5530]]\n",
      "RandomForestClassifier: 0.751\n",
      "[[ 533 1427]\n",
      " [ 812 6228]]\n"
     ]
    }
   ],
   "source": [
    "for model in modellist:\n",
    "    modelfit = model.fit(X_train, y_train)\n",
    "    modelypred = modelfit.predict(X_test)\n",
    "    print str(model).split(\"(\")[0] + \": \" + str(round(accuracy_score(y_test, modelypred),3))\n",
    "    print confusion_matrix(y_test, model.predict(X_test))"
   ]
  },
  {
   "cell_type": "markdown",
   "metadata": {},
   "source": [
    "# Feature Selection"
   ]
  },
  {
   "cell_type": "code",
   "execution_count": 60,
   "metadata": {
    "collapsed": true
   },
   "outputs": [],
   "source": [
    "def allfeature(model):\n",
    "    arr = []\n",
    "    X_train, X_test, y_train, y_test = train_test_split(X, target, test_size = 0.3, random_state = 42)\n",
    "    modelfit = model.fit(X_train, y_train)\n",
    "    modely_pred = modelfit.predict(X_test)\n",
    "    arr.append(round(accuracy_score(y_test, modely_pred),3))\n",
    "    arr.append(round(recall_score(y_test, modely_pred, labels = [\"Paid\", \"Default\"], pos_label= \"Default\"),3))\n",
    "    arr.append(round(precision_score(y_test, modely_pred, labels = [\"Paid\", \"Default\"], pos_label = \"Default\"),3))\n",
    "    return arr"
   ]
  },
  {
   "cell_type": "code",
   "execution_count": 66,
   "metadata": {
    "collapsed": false
   },
   "outputs": [
    {
     "data": {
      "text/plain": [
       "Paid       7040\n",
       "Default    1960\n",
       "Name: default payment next month, dtype: int64"
      ]
     },
     "execution_count": 66,
     "metadata": {},
     "output_type": "execute_result"
    }
   ],
   "source": [
    "y_test.value_counts()"
   ]
  },
  {
   "cell_type": "code",
   "execution_count": 65,
   "metadata": {
    "collapsed": false,
    "scrolled": false
   },
   "outputs": [
    {
     "name": "stdout",
     "output_type": "stream",
     "text": [
      "KNeighborsClassifier(algorithm='auto', leaf_size=30, metric='minkowski',\n",
      "           metric_params=None, n_jobs=1, n_neighbors=5, p=2,\n",
      "           weights='uniform')\n",
      "[0.753, 0.173, 0.361]\n",
      "[[ 340 1620]\n",
      " [ 602 6438]]\n",
      "LogisticRegression(C=1.0, class_weight=None, dual=False, fit_intercept=True,\n",
      "          intercept_scaling=1, max_iter=100, multi_class='ovr', n_jobs=1,\n",
      "          penalty='l2', random_state=None, solver='liblinear', tol=0.0001,\n",
      "          verbose=0, warm_start=False)\n",
      "[0.782, 0.0, 0.0]\n",
      "[[   0 1960]\n",
      " [   0 7040]]\n",
      "GaussianNB(priors=None)\n",
      "[0.378, 0.883, 0.244]\n",
      "[[1730  230]\n",
      " [5370 1670]]\n",
      "DecisionTreeClassifier(class_weight=None, criterion='gini', max_depth=None,\n",
      "            max_features=None, max_leaf_nodes=None,\n",
      "            min_impurity_split=1e-07, min_samples_leaf=1,\n",
      "            min_samples_split=2, min_weight_fraction_leaf=0.0,\n",
      "            presort=False, random_state=None, splitter='best')\n",
      "[0.727, 0.42, 0.384]\n",
      "[[ 823 1137]\n",
      " [1318 5722]]\n",
      "RandomForestClassifier(bootstrap=True, class_weight=None, criterion='gini',\n",
      "            max_depth=None, max_features='auto', max_leaf_nodes=None,\n",
      "            min_impurity_split=1e-07, min_samples_leaf=1,\n",
      "            min_samples_split=2, min_weight_fraction_leaf=0.0,\n",
      "            n_estimators=10, n_jobs=1, oob_score=False, random_state=None,\n",
      "            verbose=0, warm_start=False)\n",
      "[0.794, 0.416, 0.534]\n",
      "[[ 816 1144]\n",
      " [ 713 6327]]\n"
     ]
    }
   ],
   "source": [
    "for model in modellist:\n",
    "    print model\n",
    "    print allfeature(model)\n",
    "    print confusion_matrix(y_test, model.predict(X_test))"
   ]
  },
  {
   "cell_type": "code",
   "execution_count": 18,
   "metadata": {
    "collapsed": true
   },
   "outputs": [],
   "source": [
    "def onefeature(model, name):\n",
    "    arr = []\n",
    "    X = df[[name]]\n",
    "    X_train, X_test, y_train, y_test = train_test_split(X, target, test_size = 0.3, random_state = 42)\n",
    "    modelfit = model.fit(X_train, y_train)\n",
    "    modely_pred = modelfit.predict(X_test)\n",
    "    arr.append(round(accuracy_score(y_test, modely_pred),3))\n",
    "    arr.append(round(recall_score(y_test, modely_pred, labels = [\"Paid\", \"Default\"], pos_label= \"Default\"),3))\n",
    "    arr.append(round(precision_score(y_test, modely_pred, labels = [\"Paid\", \"Default\"], pos_label = \"Default\"),3))\n",
    "    return arr"
   ]
  },
  {
   "cell_type": "code",
   "execution_count": 19,
   "metadata": {
    "collapsed": false
   },
   "outputs": [
    {
     "data": {
      "text/plain": [
       "'default payment next month'"
      ]
     },
     "execution_count": 19,
     "metadata": {},
     "output_type": "execute_result"
    }
   ],
   "source": [
    "colnames = df.columns.tolist()\n",
    "colnames.pop()"
   ]
  },
  {
   "cell_type": "code",
   "execution_count": 22,
   "metadata": {
    "collapsed": true
   },
   "outputs": [],
   "source": [
    "onemodel = modellist[1]"
   ]
  },
  {
   "cell_type": "code",
   "execution_count": 23,
   "metadata": {
    "collapsed": false
   },
   "outputs": [
    {
     "name": "stdout",
     "output_type": "stream",
     "text": [
      "LIMIT_BAL\n",
      "[0.782, 0.0, 0.0]\n",
      "SEX\n",
      "[0.782, 0.0, 0.0]\n",
      "EDUCATION\n",
      "[0.782, 0.0, 0.0]\n",
      "MARRIAGE\n",
      "[0.782, 0.0, 0.0]\n",
      "AGE\n",
      "[0.782, 0.0, 0.0]\n",
      "PAY_0\n",
      "[0.82, 0.319, 0.687]\n",
      "PAY_2\n",
      "[0.785, 0.044, 0.577]\n",
      "PAY_3\n",
      "[0.784, 0.035, 0.575]\n",
      "PAY_4\n",
      "[0.785, 0.033, 0.621]\n",
      "PAY_5\n",
      "[0.786, 0.036, 0.648]\n",
      "PAY_6\n",
      "[0.783, 0.011, 0.667]\n",
      "BILL_AMT1\n",
      "[0.769, 0.014, 0.158]\n",
      "BILL_AMT2\n",
      "[0.765, 0.015, 0.14]\n",
      "BILL_AMT3\n",
      "[0.766, 0.02, 0.172]\n",
      "BILL_AMT4\n",
      "[0.767, 0.016, 0.153]\n",
      "BILL_AMT5\n",
      "[0.77, 0.02, 0.203]\n",
      "BILL_AMT6\n",
      "[0.768, 0.021, 0.197]\n",
      "PAY_AMT1\n",
      "[0.782, 0.0, 0.0]\n",
      "PAY_AMT2\n",
      "[0.782, 0.0, 0.0]\n",
      "PAY_AMT3\n",
      "[0.782, 0.0, 0.0]\n",
      "PAY_AMT4\n",
      "[0.782, 0.0, 0.0]\n",
      "PAY_AMT5\n",
      "[0.782, 0.0, 0.0]\n",
      "PAY_AMT6\n",
      "[0.782, 0.0, 0.0]\n"
     ]
    }
   ],
   "source": [
    "for title in colnames:\n",
    "    print title\n",
    "    print onefeature(onemodel, title)"
   ]
  }
 ],
 "metadata": {
  "anaconda-cloud": {},
  "kernelspec": {
   "display_name": "Python [Root]",
   "language": "python",
   "name": "Python [Root]"
  },
  "language_info": {
   "codemirror_mode": {
    "name": "ipython",
    "version": 2
   },
   "file_extension": ".py",
   "mimetype": "text/x-python",
   "name": "python",
   "nbconvert_exporter": "python",
   "pygments_lexer": "ipython2",
   "version": "2.7.12"
  }
 },
 "nbformat": 4,
 "nbformat_minor": 0
}
